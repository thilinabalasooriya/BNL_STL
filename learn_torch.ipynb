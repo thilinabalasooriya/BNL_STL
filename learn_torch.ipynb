{
 "cells": [
  {
   "cell_type": "code",
   "execution_count": 3,
   "id": "24294dd7-9222-4824-b8c7-2cd87bfbcd0b",
   "metadata": {},
   "outputs": [],
   "source": [
    "#Made following tutorial series by Patrick Loeber with some edits \n",
    "import torch\n",
    "import numpy as np"
   ]
  },
  {
   "cell_type": "code",
   "execution_count": 5,
   "id": "23f4823d-7a7f-4787-b9a9-959aca078083",
   "metadata": {},
   "outputs": [
    {
     "name": "stdout",
     "output_type": "stream",
     "text": [
      "tensor([[1.2640e-27, 4.5856e-41, 1.2639e-27],\n",
      "        [4.5856e-41, 9.4075e-28, 4.5856e-41]])\n",
      "tensor([[0., 0., 0.],\n",
      "        [0., 0., 0.]])\n",
      "tensor([[1., 1., 1.],\n",
      "        [1., 1., 1.]])\n",
      "tensor([[0.0051, 0.3095, 0.6836],\n",
      "        [0.3987, 0.1796, 0.5950]])\n"
     ]
    }
   ],
   "source": [
    "###--- 1) Basics of Tensors ---###\n",
    "#Tensor is basically an array with some dimension and shape, but unlike np arrays they can be moved to GPUs for ML\n",
    "# and can be used for gradient tracking\n",
    "#Uninitialized tensor with given shape, faster than initializing with 0 or 1\n",
    "x = torch.empty(2, 3)\n",
    "print(x)\n",
    "\n",
    "\n",
    "x = torch.zeros(2, 3)\n",
    "print(x)\n",
    "x = torch.ones(2, 3)\n",
    "print(x)\n",
    "\n",
    "#we can specify data type of elements, float32 is the default for nn params\n",
    "x = torch.rand(2, 3, dtype = torch.float32)\n",
    "print(x)"
   ]
  },
  {
   "cell_type": "code",
   "execution_count": null,
   "id": "8c70b428-eba8-49cb-9010-74346da6afae",
   "metadata": {},
   "outputs": [],
   "source": [
    "#Tensor Operations\n",
    "x, y = torch.rand(2,2)\n",
    "\n",
    "#elementwise ops\n",
    "print(x, y, x+y, x-y, x*y, x/y)\n",
    "\n",
    "#slicing\n",
    "z = torch.rand(6,3, 4)\n",
    "print(z[:, 0]) # = z[:, 0, :]\n",
    "print(z[:, 0, 2])\n",
    "print(z[0, 2, 0].item())"
   ]
  },
  {
   "cell_type": "code",
   "execution_count": null,
   "id": "5ce9dcce-15fb-4192-b741-a65b86f56f8b",
   "metadata": {},
   "outputs": [],
   "source": [
    "#Reshaping\n",
    "x = torch.rand(4, 4)\n",
    "\n",
    "# Changes the shape to whatever is specified\n",
    "#-1 allows pytorch to determine the correct size to maintain same number of elements\n",
    "print(x.view(-1))\n",
    "\n",
    "print(x.view(8, -1))\n",
    "\n",
    "#reshape does the same thing but either returns a view or copy of the data\n",
    "print(x.reshape(8, -1))"
   ]
  },
  {
   "cell_type": "code",
   "execution_count": null,
   "id": "2c2c6a2e-a88e-426d-9a4b-87e30e2a169f",
   "metadata": {},
   "outputs": [],
   "source": [
    "#Casting between array and tensor\n",
    "x = torch.rand(3)\n",
    "y = np.array(x) #or x.numpy()\n",
    "z = torch.Tensor(y)\n",
    "\n",
    "print(x, y, z)"
   ]
  },
  {
   "cell_type": "code",
   "execution_count": 18,
   "id": "2c916295-e843-4266-ba02-4c2793145553",
   "metadata": {},
   "outputs": [
    {
     "name": "stdout",
     "output_type": "stream",
     "text": [
      "cuda available\n",
      "cuda:0\n",
      "cpu\n",
      "cuda:0\n"
     ]
    }
   ],
   "source": [
    "#Moving between cpu and gpu\n",
    "x = torch.rand(3)\n",
    "\n",
    "if torch.cuda.is_available():\n",
    "    device = torch.device(\"cuda\")\n",
    "    print(\"cuda available\")\n",
    "    x = x.to(\"cuda\")\n",
    "    print(x.device)\n",
    "else:\n",
    "    print(\"cuda unavailable; using cpu\")\n",
    "\n",
    "\n",
    "x =x.to(\"cpu\")\n",
    "print(x.device)\n",
    "\n",
    "x = x.to(device)\n",
    "print(x.device)"
   ]
  },
  {
   "cell_type": "code",
   "execution_count": null,
   "id": "d9122096-25b7-4169-a741-646489d85b87",
   "metadata": {},
   "outputs": [],
   "source": [
    "###--- 2) Autograd ---###\n",
    "#from torchviz import make_dot\n",
    "# keeps track of computational graph for us when we create tensors, streamlines backprop to calculate gradients\n",
    "# which will be used in gradient update step using optim.step()\n",
    "\n",
    "x = torch.rand(3, requires_grad = True)\n",
    "w = torch.rand(2, 3, requires_grad = True)\n",
    "b = torch.rand(2, requires_grad = True)\n",
    "y = w@x + b\n",
    "z = y.mean()\n",
    "\n",
    "#dot = make_dot(z, params={'y': y, 'x': x})\n",
    "#dot.format = 'png'\n",
    "#dot.render('tensor_ops_graph')\n",
    "\n",
    "z.backward()\n",
    "\n",
    "print(w.grad)\n",
    "print(b.grad)"
   ]
  },
  {
   "cell_type": "code",
   "execution_count": 7,
   "id": "162b3d6b-d5de-479e-865d-cebd232d3fb1",
   "metadata": {},
   "outputs": [],
   "source": [
    "import torchvision\n",
    "import torchvision.transforms as transforms"
   ]
  },
  {
   "cell_type": "code",
   "execution_count": 57,
   "id": "d2fa31a8-0e78-4148-bd27-020860d7f6ea",
   "metadata": {},
   "outputs": [
    {
     "name": "stderr",
     "output_type": "stream",
     "text": [
      "100%|██████████| 9.91M/9.91M [00:00<00:00, 39.2MB/s]\n",
      "100%|██████████| 28.9k/28.9k [00:00<00:00, 1.19MB/s]\n",
      "100%|██████████| 1.65M/1.65M [00:00<00:00, 10.7MB/s]\n",
      "100%|██████████| 4.54k/4.54k [00:00<00:00, 9.24MB/s]\n"
     ]
    }
   ],
   "source": [
    "batch_size = 128\n",
    "\n",
    "train_dataset = torchvision.datasets.MNIST(root='./data/',\n",
    "                                           train=True, \n",
    "                                           transform=transforms.ToTensor(),\n",
    "                                           download=True)\n",
    "\n",
    "test_dataset = torchvision.datasets.MNIST(root='./data/',\n",
    "                                          train=False, \n",
    "                                          transform=transforms.ToTensor(),\n",
    "                                         download=True)\n"
   ]
  },
  {
   "cell_type": "code",
   "execution_count": 55,
   "id": "840ec81d-55f4-43da-a472-ea169cf15548",
   "metadata": {},
   "outputs": [],
   "source": [
    "# Data loader\n",
    "train_loader = torch.utils.data.DataLoader(dataset=train_dataset,\n",
    "                                           batch_size=batch_size, \n",
    "                                           shuffle=True)\n",
    "\n",
    "test_loader = torch.utils.data.DataLoader(dataset=test_dataset,\n",
    "                                          batch_size=batch_size, \n",
    "                                          shuffle=False)"
   ]
  },
  {
   "cell_type": "code",
   "execution_count": 54,
   "id": "ace25ef6-c57e-4cd0-a872-b74cf9fcc99e",
   "metadata": {},
   "outputs": [
    {
     "name": "stdout",
     "output_type": "stream",
     "text": [
      "tensor([7, 8, 4, 6, 1, 3, 0, 0, 7, 8, 1, 9, 6, 8, 9, 4, 5, 6, 2, 0, 1, 9, 3, 1,\n",
      "        3, 5, 3, 2, 4, 9, 9, 9, 3, 7, 8, 4, 9, 4, 5, 1, 3, 2, 4, 2, 4, 3, 9, 9,\n",
      "        1, 3, 9, 5, 6, 7, 0, 3, 1, 8, 1, 4, 6, 4, 3, 7, 8, 0, 4, 6, 4, 2, 8, 9,\n",
      "        2, 7, 2, 1, 9, 7, 4, 6, 7, 5, 8, 8, 6, 4, 5, 1, 1, 9, 0, 6, 1, 1, 6, 5,\n",
      "        4, 9, 0, 9, 6, 9, 9, 7, 4, 5, 8, 9, 4, 2, 0, 6, 5, 5, 2, 1, 6, 4, 0, 9,\n",
      "        9, 7, 1, 9, 9, 3, 4, 9])\n"
     ]
    }
   ],
   "source": [
    "print(next(iter(train_loader))[1])"
   ]
  },
  {
   "cell_type": "code",
   "execution_count": 12,
   "id": "c9a0fbfb-109c-43b1-acce-b3c3e1b803e2",
   "metadata": {},
   "outputs": [],
   "source": [
    "num_epochs = 5\n",
    "num_classes = 10\n",
    "learning_rate = 0.001"
   ]
  },
  {
   "cell_type": "code",
   "execution_count": 16,
   "id": "32cfeff2-6669-457c-ac7d-a6ef7b41f563",
   "metadata": {},
   "outputs": [],
   "source": [
    "###--- x) Training a CNN-based model on MNIST ---###\n",
    "import torch.nn as nn\n",
    "\n",
    "#Define the model\n",
    "\n",
    "class CNNModel(nn.Module):\n",
    "    def __init__(self, num_classes=10):\n",
    "        super(CNNModel, self).__init__()\n",
    "        self.layer1 = nn.Sequential(\n",
    "            nn.Conv2d(1, 16, kernel_size=5, stride=1, padding=2),\n",
    "            nn.BatchNorm2d(16),\n",
    "            nn.ReLU(),\n",
    "            nn.MaxPool2d(kernel_size=2, stride=2))\n",
    "        self.layer2 = nn.Sequential(\n",
    "            nn.Conv2d(16, 32, kernel_size=5, stride=1, padding=2),\n",
    "            nn.BatchNorm2d(32),\n",
    "            nn.ReLU(),\n",
    "            nn.MaxPool2d(kernel_size=2, stride=2))\n",
    "        self.fc = nn.Linear(7*7*32, num_classes)\n",
    "        \n",
    "    def forward(self, x):\n",
    "        out = self.layer1(x)\n",
    "        out = self.layer2(out)\n",
    "        out = out.reshape(out.size(0), -1)\n",
    "        out = self.fc(out)\n",
    "        return out"
   ]
  },
  {
   "cell_type": "code",
   "execution_count": 22,
   "id": "a878c557-edd4-4350-b4c4-99375c53d738",
   "metadata": {},
   "outputs": [
    {
     "name": "stdout",
     "output_type": "stream",
     "text": [
      "Epoch [1/5], Step [100/469], Loss: 0.1784\n",
      "Epoch [1/5], Step [200/469], Loss: 0.0950\n",
      "Epoch [1/5], Step [300/469], Loss: 0.0593\n",
      "Epoch [1/5], Step [400/469], Loss: 0.0150\n",
      "Epoch [2/5], Step [100/469], Loss: 0.0601\n",
      "Epoch [2/5], Step [200/469], Loss: 0.0182\n",
      "Epoch [2/5], Step [300/469], Loss: 0.0248\n",
      "Epoch [2/5], Step [400/469], Loss: 0.0419\n",
      "Epoch [3/5], Step [100/469], Loss: 0.0234\n",
      "Epoch [3/5], Step [200/469], Loss: 0.0507\n",
      "Epoch [3/5], Step [300/469], Loss: 0.0243\n",
      "Epoch [3/5], Step [400/469], Loss: 0.0661\n",
      "Epoch [4/5], Step [100/469], Loss: 0.0160\n",
      "Epoch [4/5], Step [200/469], Loss: 0.0068\n",
      "Epoch [4/5], Step [300/469], Loss: 0.0216\n",
      "Epoch [4/5], Step [400/469], Loss: 0.0123\n",
      "Epoch [5/5], Step [100/469], Loss: 0.0333\n",
      "Epoch [5/5], Step [200/469], Loss: 0.0466\n",
      "Epoch [5/5], Step [300/469], Loss: 0.0329\n",
      "Epoch [5/5], Step [400/469], Loss: 0.0050\n"
     ]
    }
   ],
   "source": [
    "model = CNNModel(num_classes).to(device)\n",
    "\n",
    "# Loss and optimizer\n",
    "criterion = nn.CrossEntropyLoss()\n",
    "optimizer = torch.optim.Adam(model.parameters(), lr=learning_rate)\n",
    "\n",
    "total_step = len(train_loader)\n",
    "for epoch in range(num_epochs):\n",
    "    model.train()\n",
    "    \n",
    "    for batch_num, (images, labels)  in enumerate(train_loader):\n",
    "        images = images.to(device)\n",
    "        labels = labels.to(device)\n",
    "         \n",
    "        output = model(images)\n",
    "        loss = criterion(output, labels)\n",
    "\n",
    "        optimizer.zero_grad()\n",
    "        loss.backward()\n",
    "        optimizer.step()\n",
    "\n",
    "        if (batch_num+1) % 100 == 0:\n",
    "            print ('Epoch [{}/{}], Step [{}/{}], Loss: {:.4f}'.format(epoch+1, num_epochs, batch_num+1, total_step, loss.item()))\n",
    "\n",
    "#Training loop\n",
    "#Learn early stopping, regularization"
   ]
  },
  {
   "cell_type": "code",
   "execution_count": 23,
   "id": "5117d94b-dfca-4d0f-a12a-1c1a33cac317",
   "metadata": {},
   "outputs": [
    {
     "name": "stdout",
     "output_type": "stream",
     "text": [
      "Test Accuracy of the model on the 10000 test images: 97.98 %\n"
     ]
    }
   ],
   "source": [
    "model.eval()  # eval mode (batchnorm uses moving mean/variance instead of mini-batch mean/variance)\n",
    "with torch.no_grad():\n",
    "    correct = 0\n",
    "    total = 0\n",
    "    for images, labels in test_loader:\n",
    "        images = images.to(device)\n",
    "        labels = labels.to(device)\n",
    "        outputs = model(images)\n",
    "        _, predicted = torch.max(outputs.data, 1)\n",
    "        total += labels.size(0)\n",
    "        correct += (predicted == labels).sum().item()\n",
    "\n",
    "    print('Test Accuracy of the model on the 10000 test images: {} %'.format(100 * correct / total))\n",
    "\n",
    "# Save the model checkpoint\n",
    "torch.save(model.state_dict(), 'model.ckpt')"
   ]
  }
 ],
 "metadata": {
  "kernelspec": {
   "display_name": "testkernel2",
   "language": "python",
   "name": "testkernel2"
  },
  "language_info": {
   "codemirror_mode": {
    "name": "ipython",
    "version": 3
   },
   "file_extension": ".py",
   "mimetype": "text/x-python",
   "name": "python",
   "nbconvert_exporter": "python",
   "pygments_lexer": "ipython3",
   "version": "3.12.3"
  }
 },
 "nbformat": 4,
 "nbformat_minor": 5
}
